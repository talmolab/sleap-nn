{
 "cells": [
  {
   "cell_type": "code",
   "execution_count": 2,
   "metadata": {},
   "outputs": [],
   "source": [
    "from sleap_nn.architectures.unet import UNet\n",
    "import torch\n",
    "from torch import nn\n",
    "\n",
    "in_channels = 1\n",
    "filters = 64\n",
    "filters_rate = 2\n",
    "kernel_size = 3\n",
    "down_blocks = 4\n",
    "stem_blocks = 0\n",
    "up_blocks = 4\n",
    "convs_per_block = 2\n",
    "middle_block = True\n",
    "block_contraction = False\n",
    "\n",
    "unet = UNet(\n",
    "    in_channels=in_channels,\n",
    "    filters=filters, \n",
    "    filters_rate=filters_rate, \n",
    "    down_blocks=down_blocks, \n",
    "    stem_blocks=stem_blocks, \n",
    "    up_blocks=up_blocks\n",
    ")\n",
    "\n",
    "in_channels = int(\n",
    "    filters\n",
    "    * (\n",
    "        filters_rate\n",
    "        ** (down_blocks + stem_blocks - 1 - up_blocks + 1)\n",
    "    )\n",
    ")\n",
    "model = nn.Sequential(*[\n",
    "    unet,\n",
    "    nn.Conv2d(in_channels=in_channels, out_channels=13, kernel_size=1, padding=\"same\")\n",
    "])"
   ]
  },
  {
   "cell_type": "code",
   "execution_count": null,
   "metadata": {},
   "outputs": [],
   "source": []
  }
 ],
 "metadata": {
  "kernelspec": {
   "display_name": "Python 3",
   "language": "python",
   "name": "python3"
  },
  "language_info": {
   "codemirror_mode": {
    "name": "ipython",
    "version": 3
   },
   "file_extension": ".py",
   "mimetype": "text/x-python",
   "name": "python",
   "nbconvert_exporter": "python",
   "pygments_lexer": "ipython3",
   "version": "3.9.16"
  },
  "orig_nbformat": 4
 },
 "nbformat": 4,
 "nbformat_minor": 2
}
